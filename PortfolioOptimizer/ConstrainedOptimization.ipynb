{
 "cells": [
  {
   "cell_type": "markdown",
   "id": "aa95e2da",
   "metadata": {},
   "source": [
    "# <center> <u> Constrained Optimizatiom </u> </center> "
   ]
  },
  {
   "cell_type": "markdown",
   "id": "cd952654",
   "metadata": {},
   "source": [
    "## <u> Substitution Method </u> \n",
    "\n",
    "## <center> Objective Function </center> \n",
    "\n",
    "## <center> $ \\min f(x, z) = x^{2} + z^{2} $ </center>\n",
    "\n",
    "## <center> $ x + z = 1 $ </center>\n",
    "\n",
    "## <center> $ \\min f(x, 1 - x) = x^{2} + (1 - x)^{2} $ </center>\n",
    "\n",
    "## <center> Gradient </center> \n",
    "\n",
    "## <center> $ \\frac{d}{dx} = x^{2} + (1 - x)^{2} = 2x - 2(1 - x) = 4x - 2 $ </center>\n",
    "\n",
    "## <center> Solution </center> \n",
    "\n",
    "## <center> $ x = \\frac{1}{2} $ </center>"
   ]
  },
  {
   "cell_type": "markdown",
   "id": "fed6e480",
   "metadata": {},
   "source": [
    "## <u> LaGrange Multipliers </u> \n",
    "\n",
    "## <center> Objective Function </center> \n",
    "\n",
    "## <center> $ \\min f(x, z) = x^{2} + z^{2} $ </center>\n",
    "\n",
    "## <center> $ x + z - 1 = 0 $ </center>\n",
    "\n",
    "## <center> $ L(x, z, \\lambda) = x^{2} + z^{2} + \\lambda \\cdot (x + z - 1) $ </center>\n",
    "\n",
    "## <center> Gradient </center>\n",
    "\n",
    "## <center> $ \\frac{\\partial L}{\\partial x} = 2x + \\lambda = 0 $ </center>\n",
    "\n",
    "## <center> $ \\frac{\\partial L}{\\partial z} = 2z + \\lambda = 0 $ </center>\n",
    "\n",
    "## <center> $ \\frac{\\partial L}{\\partial \\lambda} = x + z - 1 = 0 $ </center>\n",
    "\n",
    "## <center> Solution </center> \n",
    "\n",
    "## <center> $ z = \\frac{1}{2} $ </center> "
   ]
  },
  {
   "cell_type": "code",
   "execution_count": null,
   "id": "c0041274",
   "metadata": {},
   "outputs": [],
   "source": []
  }
 ],
 "metadata": {
  "kernelspec": {
   "display_name": "Python 3 (ipykernel)",
   "language": "python",
   "name": "python3"
  },
  "language_info": {
   "codemirror_mode": {
    "name": "ipython",
    "version": 3
   },
   "file_extension": ".py",
   "mimetype": "text/x-python",
   "name": "python",
   "nbconvert_exporter": "python",
   "pygments_lexer": "ipython3",
   "version": "3.11.4"
  }
 },
 "nbformat": 4,
 "nbformat_minor": 5
}
