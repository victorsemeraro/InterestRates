{
 "cells": [
  {
   "cell_type": "markdown",
   "id": "29a44bff",
   "metadata": {},
   "source": [
    "# <center> <u> Derivation of Itos Formula </u> </center> \n",
    "\n",
    "## <center> $ dX_{t} = \\mu_{t} dt + \\sigma_{t} dB_{t} $ </center> \n",
    "\n",
    "## <center> Twice Differentiable Taylor Series </center> \n",
    "\n",
    "## <center> $ df = \\frac{\\partial f}{\\partial t} dt + \\frac{1}{2} \\frac{\\partial^{2} f}{\\partial t^{2}} dt^{2} + \\frac{\\partial f}{\\partial x} dx + \\frac{1}{2} \\frac{\\partial^{2} f}{\\partial x^{2}} dx^{2}$ </center> \n",
    "\n",
    "## <center> $ df = \\frac{\\partial f}{\\partial t} dt + \\frac{1}{2} \\frac{\\partial^{2} f}{\\partial t^{2}} dt^{2} + \\frac{\\partial f}{\\partial x} (\\mu_{t} dt + \\sigma_{t} dB_{t}) + \\frac{1}{2} \\frac{\\partial^{2} f}{\\partial x^{2}} (\\mu_{t}^{2} dt^{2} + 2 \\mu_{t} \\sigma_{t} dt dB_{t} + \\sigma_{t}^{2} dB_{t}^{2}) $  </center> \n",
    "\n",
    "## <center> $ dt^{2} \\to 0 $ </center>\n",
    "\n",
    "## <center> $ dtdB_{t} \\to 0 $ </center>\n",
    "\n",
    "## <center> $ dB_{t}^{2} \\to dt $ </center>"
   ]
  },
  {
   "cell_type": "markdown",
   "id": "b195a6cd",
   "metadata": {},
   "source": [
    "## <center> $ df = \\frac{\\partial f}{\\partial t} dt + \\frac{\\partial f}{\\partial x} (\\mu_{t}dt + \\sigma_{t} dB_{t}) + \\frac{1}{2} \\frac{\\partial^{2} f}{\\partial x^{2}} (\\sigma_{t}^{2} dt) $ </center> \n",
    "\n",
    "## <center> <u> Final Result </u> </center>\n",
    "\n",
    "## <center> $ df = (\\frac{\\partial f}{\\partial t} + \\mu_{t} \\frac{\\partial f}{\\partial x} + \\frac{1}{2} \\sigma_{t}^{2} \\frac{\\partial^{2} f}{\\partial x^{2}} )dt + \\sigma_{t} \\frac{\\partial f}{\\partial x} dB_{t} $ </center>"
   ]
  },
  {
   "cell_type": "markdown",
   "id": "e8b1ab28",
   "metadata": {},
   "source": [
    "## <center> Geometric Brownian Motion </center>"
   ]
  },
  {
   "cell_type": "markdown",
   "id": "a7fb1ec3",
   "metadata": {},
   "source": [
    "## <center> $ dS_{t} = S_{t} \\mu dt + S_{t} \\sigma dB_{t} $ </center>"
   ]
  },
  {
   "cell_type": "code",
   "execution_count": null,
   "id": "d41e96be",
   "metadata": {},
   "outputs": [],
   "source": []
  },
  {
   "cell_type": "code",
   "execution_count": null,
   "id": "62e5d370",
   "metadata": {},
   "outputs": [],
   "source": []
  },
  {
   "cell_type": "code",
   "execution_count": null,
   "id": "0c338136",
   "metadata": {},
   "outputs": [],
   "source": []
  },
  {
   "cell_type": "code",
   "execution_count": null,
   "id": "d0dbff21",
   "metadata": {},
   "outputs": [],
   "source": []
  },
  {
   "cell_type": "markdown",
   "id": "06dcdb3d",
   "metadata": {},
   "source": [
    "## <center> Black Scholes </center> "
   ]
  },
  {
   "cell_type": "code",
   "execution_count": null,
   "id": "d8435a44",
   "metadata": {},
   "outputs": [],
   "source": []
  },
  {
   "cell_type": "code",
   "execution_count": null,
   "id": "6928dbe3",
   "metadata": {},
   "outputs": [],
   "source": []
  },
  {
   "cell_type": "code",
   "execution_count": null,
   "id": "fcd38f48",
   "metadata": {},
   "outputs": [],
   "source": []
  },
  {
   "cell_type": "code",
   "execution_count": null,
   "id": "8be940b3",
   "metadata": {},
   "outputs": [],
   "source": []
  },
  {
   "cell_type": "code",
   "execution_count": null,
   "id": "2037e84c",
   "metadata": {},
   "outputs": [],
   "source": []
  },
  {
   "cell_type": "markdown",
   "id": "58e2a7e0",
   "metadata": {},
   "source": [
    "## <center> Vasicek Model </center> "
   ]
  },
  {
   "cell_type": "code",
   "execution_count": null,
   "id": "ba732534",
   "metadata": {},
   "outputs": [],
   "source": []
  },
  {
   "cell_type": "code",
   "execution_count": null,
   "id": "d87b8738",
   "metadata": {},
   "outputs": [],
   "source": []
  },
  {
   "cell_type": "code",
   "execution_count": null,
   "id": "e468eabd",
   "metadata": {},
   "outputs": [],
   "source": []
  },
  {
   "cell_type": "code",
   "execution_count": null,
   "id": "22c4a774",
   "metadata": {},
   "outputs": [],
   "source": []
  },
  {
   "cell_type": "code",
   "execution_count": null,
   "id": "398a2300",
   "metadata": {},
   "outputs": [],
   "source": []
  }
 ],
 "metadata": {
  "kernelspec": {
   "display_name": "Python 3 (ipykernel)",
   "language": "python",
   "name": "python3"
  },
  "language_info": {
   "codemirror_mode": {
    "name": "ipython",
    "version": 3
   },
   "file_extension": ".py",
   "mimetype": "text/x-python",
   "name": "python",
   "nbconvert_exporter": "python",
   "pygments_lexer": "ipython3",
   "version": "3.10.2"
  }
 },
 "nbformat": 4,
 "nbformat_minor": 5
}
