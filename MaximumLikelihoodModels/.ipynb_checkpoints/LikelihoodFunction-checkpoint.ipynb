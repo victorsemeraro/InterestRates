{
 "cells": [
  {
   "cell_type": "markdown",
   "id": "aafbd306",
   "metadata": {},
   "source": [
    "# <center> <u> Maximum Likelihood Estimation </u> </center> "
   ]
  },
  {
   "cell_type": "code",
   "execution_count": null,
   "id": "47df3b2d",
   "metadata": {},
   "outputs": [],
   "source": [
    "import numpy as np \n",
    "\n",
    "import seaborn as sns\n",
    "import matplotlib.pyplot as plt "
   ]
  },
  {
   "cell_type": "markdown",
   "id": "8b0d7f23",
   "metadata": {},
   "source": [
    "## <center> Set Seaborn Theme </center>"
   ]
  },
  {
   "cell_type": "code",
   "execution_count": 2,
   "id": "756c1d40",
   "metadata": {},
   "outputs": [],
   "source": [
    "sns.set_theme(\n",
    "    style = \"darkgrid\",\n",
    "    palette = \"bright\",\n",
    ")\n",
    "\n",
    "plt.rc('figure', figsize = (10, 5))"
   ]
  },
  {
   "cell_type": "code",
   "execution_count": 1,
   "id": "1e77b85a",
   "metadata": {},
   "outputs": [],
   "source": [
    "## <center> Set Seaborn Theme </center>\n",
    "\n",
    "sns.set_theme(\n",
    "    style = \"darkgrid\",\n",
    "    palette = \"bright\",\n",
    ")\n",
    "\n",
    "plt.rc('figure', figsize = (10, 5))\n"
   ]
  },
  {
   "cell_type": "markdown",
   "id": "f912699d",
   "metadata": {},
   "source": [
    "## <center> Fair Coin </center> \n",
    "\n",
    "## <center> $ p_{H} = 0.5 $ </center>\n",
    "\n",
    "## <center> $ P(HH | p_{H} = 0.5) = 0.5^{2} = 0.25 $ </center> "
   ]
  },
  {
   "cell_type": "markdown",
   "id": "1f618153",
   "metadata": {},
   "source": [
    "## <center> Unfair Coin </center> \n",
    "\n",
    "## <center> $ p_{H} = 0.3 $ </center> \n",
    "\n",
    "## <center> $ P(HH | p_{H} = 0.3) = 0.3^{2} = 0.09 $ </center>"
   ]
  },
  {
   "cell_type": "code",
   "execution_count": 2,
   "id": "9f92fe29",
   "metadata": {},
   "outputs": [],
   "source": [
    "N = 100\n",
    "p = np.linspace(0, 1, N)"
   ]
  },
  {
   "cell_type": "code",
   "execution_count": 3,
   "id": "3ba792db",
   "metadata": {},
   "outputs": [
    {
     "data": {
      "image/png": "[encoded data removed]",
      "text/plain": [
       "<Figure size 640x480 with 1 Axes>"
      ]
     },
     "metadata": {},
     "output_type": "display_data"
    }
   ],
   "source": [
    "ax = sns.lineplot(p**2)\n",
    "\n",
    "plt.show()"
   ]
  },
  {
   "cell_type": "code",
   "execution_count": null,
   "id": "49ff9f6a",
   "metadata": {},
   "outputs": [],
   "source": []
  },
  {
   "cell_type": "code",
   "execution_count": null,
   "id": "b101838b",
   "metadata": {},
   "outputs": [],
   "source": []
  },
  {
   "cell_type": "code",
   "execution_count": null,
   "id": "f5eb33f4",
   "metadata": {},
   "outputs": [],
   "source": []
  },
  {
   "cell_type": "code",
   "execution_count": null,
   "id": "ad4bee6f",
   "metadata": {},
   "outputs": [],
   "source": []
  },
  {
   "cell_type": "code",
   "execution_count": null,
   "id": "74871539",
   "metadata": {},
   "outputs": [],
   "source": []
  },
  {
   "cell_type": "markdown",
   "id": "9bc42414",
   "metadata": {},
   "source": []
  }
 ],
 "metadata": {
  "kernelspec": {
   "display_name": "Python 3 (ipykernel)",
   "language": "python",
   "name": "python3"
  },
  "language_info": {
   "codemirror_mode": {
    "name": "ipython",
    "version": 3
   },
   "file_extension": ".py",
   "mimetype": "text/x-python",
   "name": "python",
   "nbconvert_exporter": "python",
   "pygments_lexer": "ipython3",
   "version": "3.10.2"
  }
 },
 "nbformat": 4,
 "nbformat_minor": 5
}
